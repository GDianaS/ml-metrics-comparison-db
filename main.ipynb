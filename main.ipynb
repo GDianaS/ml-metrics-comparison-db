{
 "cells": [
  {
   "cell_type": "markdown",
   "metadata": {},
   "source": [
    "## 1. Configuração Banco de Dados ##"
   ]
  },
  {
   "cell_type": "markdown",
   "metadata": {},
   "source": [
    "###  Conexão com o Banco de Dados ###"
   ]
  },
  {
   "cell_type": "code",
   "execution_count": 1,
   "metadata": {},
   "outputs": [],
   "source": [
    "#pip install mysql-connector-python\n",
    "import mysql.connector\n",
    "from sqlalchemy import create_engine, text"
   ]
  },
  {
   "cell_type": "code",
   "execution_count": null,
   "metadata": {},
   "outputs": [],
   "source": [
    "USER = \"your_user\"\n",
    "PASSWORD = \"yout_password\"\n",
    "HOST = \"localhost\"\n",
    "DATABASE = \"your_database\" "
   ]
  },
  {
   "cell_type": "code",
   "execution_count": 21,
   "metadata": {},
   "outputs": [],
   "source": [
    "# Criar conexão usando SQLAlchemy\n",
    "engine = create_engine(f\"mysql+pymysql://{USER}:{PASSWORD}@{HOST}/{DATABASE}\")"
   ]
  },
  {
   "cell_type": "markdown",
   "metadata": {},
   "source": [
    "### Criação das Tabelas ###"
   ]
  },
  {
   "cell_type": "code",
   "execution_count": 22,
   "metadata": {},
   "outputs": [],
   "source": [
    "with engine.connect() as connection:\n",
    "    tables_to_drop = [\"Metrics\", \"Experiments\", \"LearnStrategies\", \"Hyperparameters\", \"Models\"]\n",
    "    for table in tables_to_drop:\n",
    "        connection.execute(text(f\"DROP TABLE IF EXISTS {table};\"))\n",
    "    connection.commit() # Confirma a remoção das tabelas"
   ]
  },
  {
   "cell_type": "code",
   "execution_count": 23,
   "metadata": {},
   "outputs": [],
   "source": [
    "tables = {\n",
    "    \"Models\": \"\"\"\n",
    "    CREATE TABLE IF NOT EXISTS Models (\n",
    "        id INT AUTO_INCREMENT PRIMARY KEY,\n",
    "        type INT,  -- 0: Classificação, 1: Regressão\n",
    "        algorithm VARCHAR(50)\n",
    "    )\n",
    "    \"\"\",\n",
    "    \n",
    "    \"Hyperparameters\": \"\"\"\n",
    "    CREATE TABLE IF NOT EXISTS Hyperparameters (\n",
    "        id INT AUTO_INCREMENT PRIMARY KEY,\n",
    "        model_id INT,\n",
    "        name VARCHAR(50),\n",
    "        value VARCHAR(50),\n",
    "        FOREIGN KEY (model_id) REFERENCES Models(id) ON DELETE CASCADE\n",
    "    )\n",
    "    \"\"\",\n",
    "    \n",
    "    \"LearnStrategies\": \"\"\"\n",
    "    CREATE TABLE IF NOT EXISTS LearnStrategies (\n",
    "        id INT AUTO_INCREMENT PRIMARY KEY,\n",
    "        model_id INT NOT NULL,\n",
    "        preprocessing_type VARCHAR(50) NOT NULL,  -- Scaling, Sampling, Feature Selection\n",
    "        data_sampling VARCHAR(50) NOT NULL,  -- Undersampling, Oversampling, Stratified Sampling\n",
    "        type VARCHAR(50) NOT NULL,  -- Cross-Validation, Hold-out\n",
    "        len_data JSON NOT NULL,  -- Lista [Treino, Teste, Validação]\n",
    "        FOREIGN KEY (model_id) REFERENCES Models(id) ON DELETE CASCADE\n",
    "    )\n",
    "    \"\"\",\n",
    "    \n",
    "    \"Experiments\": \"\"\"\n",
    "    CREATE TABLE IF NOT EXISTS Experiments (\n",
    "        id INT AUTO_INCREMENT PRIMARY KEY,\n",
    "        model_id INT,\n",
    "        dataset VARCHAR(50),\n",
    "        date_created TIMESTAMP DEFAULT CURRENT_TIMESTAMP,\n",
    "        FOREIGN KEY (model_id) REFERENCES Models(id) ON DELETE CASCADE\n",
    "    )\n",
    "    \"\"\",\n",
    "\n",
    "    \"Metrics\": \"\"\"\n",
    "    CREATE TABLE IF NOT EXISTS Metrics (\n",
    "        id INT AUTO_INCREMENT PRIMARY KEY,\n",
    "        experiment_id INT,\n",
    "        type VARCHAR(50),\n",
    "        value FLOAT,\n",
    "        FOREIGN KEY (experiment_id) REFERENCES Experiments(id) ON DELETE CASCADE\n",
    "    )\n",
    "    \"\"\"\n",
    "}"
   ]
  },
  {
   "cell_type": "code",
   "execution_count": 24,
   "metadata": {},
   "outputs": [
    {
     "name": "stdout",
     "output_type": "stream",
     "text": [
      "Tabela Models criada com sucesso! ✅\n",
      "Tabela Hyperparameters criada com sucesso! ✅\n",
      "Tabela LearnStrategies criada com sucesso! ✅\n",
      "Tabela Experiments criada com sucesso! ✅\n",
      "Tabela Metrics criada com sucesso! ✅\n",
      "Todas as tabelas foram criadas corretamente! 🎉\n"
     ]
    }
   ],
   "source": [
    "with engine.connect() as connection:\n",
    "    for table_name, sql_query in tables.items():\n",
    "        connection.execute(text(sql_query)) # Use text() here!\n",
    "        print(f\"Tabela {table_name} criada com sucesso! ✅\")\n",
    "\n",
    "print(\"Todas as tabelas foram criadas corretamente! 🎉\")"
   ]
  },
  {
   "cell_type": "markdown",
   "metadata": {},
   "source": [
    "## 2.Funções de Treinamento e Avaliação ##"
   ]
  },
  {
   "cell_type": "markdown",
   "metadata": {},
   "source": [
    "### Importação das Bibliotecas ###"
   ]
  },
  {
   "cell_type": "code",
   "execution_count": 25,
   "metadata": {},
   "outputs": [],
   "source": [
    "import pandas as pd\n",
    "import numpy as np \n",
    "import matplotlib.pyplot as plt #pip install matplotlib\n",
    "import seaborn as sns #pip install seaborn"
   ]
  },
  {
   "cell_type": "code",
   "execution_count": 26,
   "metadata": {},
   "outputs": [],
   "source": [
    "from sklearn.model_selection import train_test_split, cross_val_score\n",
    "from sklearn.preprocessing import StandardScaler\n",
    "from sklearn.ensemble import RandomForestClassifier, RandomForestRegressor\n",
    "from sklearn.svm import SVC, SVR\n",
    "from sklearn.tree import DecisionTreeClassifier, DecisionTreeRegressor\n",
    "from sklearn.linear_model import LinearRegression\n",
    "from xgboost import XGBClassifier, XGBRegressor\n",
    "from sklearn.metrics import accuracy_score, precision_score, recall_score, f1_score, roc_auc_score, mean_squared_error, mean_absolute_error, r2_score, root_mean_squared_error"
   ]
  },
  {
   "cell_type": "markdown",
   "metadata": {},
   "source": [
    "### Carregar Datasets ###"
   ]
  },
  {
   "cell_type": "code",
   "execution_count": 27,
   "metadata": {},
   "outputs": [],
   "source": [
    "def load_dataset(name):\n",
    "    from sklearn.datasets import load_iris, load_breast_cancer, load_diabetes, fetch_california_housing\n",
    "    \n",
    "    if name == \"iris\":\n",
    "        data = load_iris()\n",
    "    elif name == \"breast_cancer\":\n",
    "        data = load_breast_cancer()\n",
    "    elif name == \"boston\":\n",
    "        from sklearn.datasets import load_diabetes  # Boston foi removido, substituído por Diabetes\n",
    "        data = load_diabetes()\n",
    "    elif name == \"california\":\n",
    "        data = fetch_california_housing()\n",
    "    else:\n",
    "        raise ValueError(\"Dataset não suportado\")\n",
    "    \n",
    "    return pd.DataFrame(data.data, columns=data.feature_names), pd.Series(data.target)\n"
   ]
  },
  {
   "cell_type": "code",
   "execution_count": 28,
   "metadata": {},
   "outputs": [],
   "source": [
    "def train_and_save_model(dataset_name, model_type, algorithm, model, params={}):\n",
    "    # Carregar dataset\n",
    "    X, y = load_dataset(dataset_name)\n",
    "    \n",
    "    # Normalizar os dados\n",
    "    scaler = StandardScaler()\n",
    "    X_scaled = scaler.fit_transform(X)\n",
    "\n",
    "    # Separar treino e teste\n",
    "    X_train, X_test, y_train, y_test = train_test_split(X_scaled, y, test_size=0.2, random_state=42)\n",
    "\n",
    "    # Treinar o modelo\n",
    "    model.set_params(**params)\n",
    "    model.fit(X_train, y_train)\n",
    "\n",
    "    # Fazer previsões\n",
    "    y_pred = model.predict(X_test)\n",
    "    \n",
    "    if model_type == \"classification\":\n",
    "        metrics = {\n",
    "            \"accuracy\": accuracy_score(y_test, y_pred),\n",
    "            \"precision\": precision_score(y_test, y_pred, average='weighted'),\n",
    "            \"recall\": recall_score(y_test, y_pred, average='weighted'),\n",
    "            \"f1_score\": f1_score(y_test, y_pred, average='weighted'),\n",
    "            \"auc_roc\": roc_auc_score(y_test, model.decision_function(X_test), multi_class='ovr') if hasattr(model, \"decision_function\") else None\n",
    "        }\n",
    "    else:  # Regression\n",
    "        metrics = {\n",
    "            \"mse\": mean_squared_error(y_test, y_pred),\n",
    "            \"rmse\": np.sqrt(mean_squared_error(y_test, y_pred)),\n",
    "            \"mae\": mean_absolute_error(y_test, y_pred),\n",
    "            \"r2\": r2_score(y_test, y_pred)\n",
    "        }\n",
    "\n",
    "    with engine.connect() as connection:\n",
    "        try:\n",
    "            # Save model\n",
    "            result = connection.execute(text(\"INSERT INTO Models (type, algorithm) VALUES (:type, :algorithm)\"),\n",
    "                                        {\"type\": 0 if model_type == \"classification\" else 1, \"algorithm\": algorithm})\n",
    "            model_id = result.lastrowid\n",
    "\n",
    "            # Save hyperparameters\n",
    "            for name, value in params.items():\n",
    "                connection.execute(text(\"INSERT INTO Hyperparameters (model_id, name, value) VALUES (:model_id, :name, :value)\"),\n",
    "                                 {\"model_id\": model_id, \"name\": name, \"value\": str(value)})\n",
    "\n",
    "            # Save experiment\n",
    "            result = connection.execute(text(\"INSERT INTO Experiments (model_id, dataset) VALUES (:model_id, :dataset)\"),\n",
    "                                        {\"model_id\": model_id, \"dataset\": dataset_name})\n",
    "            experiment_id = result.lastrowid\n",
    "\n",
    "\n",
    "            # Now save the metrics (metrics is defined now!)\n",
    "            for metric, value in metrics.items():\n",
    "                connection.execute(text(\"INSERT INTO Metrics (experiment_id, type, value) VALUES (:experiment_id, :type, :value)\"),\n",
    "                             {\"experiment_id\": experiment_id, \"type\": metric, \"value\": value})\n",
    "\n",
    "            connection.commit()\n",
    "            print(f\"Modelo {algorithm} treinado e salvo com sucesso!\")\n",
    "\n",
    "        except Exception as e:\n",
    "            connection.rollback()\n",
    "            print(f\"Erro ao salvar o modelo: {e}\")\n",
    "            raise"
   ]
  },
  {
   "cell_type": "code",
   "execution_count": 29,
   "metadata": {},
   "outputs": [
    {
     "name": "stdout",
     "output_type": "stream",
     "text": [
      "Modelo RandomForest treinado e salvo com sucesso!\n",
      "Modelo SVM treinado e salvo com sucesso!\n",
      "Modelo DecisionTree treinado e salvo com sucesso!\n",
      "Modelo XGBoost treinado e salvo com sucesso!\n"
     ]
    }
   ],
   "source": [
    "# Treinar e armazenar modelos\n",
    "train_and_save_model(\"iris\", \"classification\", \"RandomForest\", RandomForestClassifier(), {\"n_estimators\": 100})\n",
    "train_and_save_model(\"breast_cancer\", \"classification\", \"SVM\", SVC(probability=True), {\"kernel\": \"linear\"})\n",
    "train_and_save_model(\"boston\", \"regression\", \"DecisionTree\", DecisionTreeRegressor(), {\"max_depth\": 5})\n",
    "train_and_save_model(\"california\", \"regression\", \"XGBoost\", XGBRegressor(n_estimators=100, max_depth=5, learning_rate=0.1, subsample=0.7, colsample_bytree=0.7), {\"n_estimators\": 100})"
   ]
  },
  {
   "cell_type": "code",
   "execution_count": 30,
   "metadata": {},
   "outputs": [
    {
     "data": {
      "text/html": [
       "<div>\n",
       "<style scoped>\n",
       "    .dataframe tbody tr th:only-of-type {\n",
       "        vertical-align: middle;\n",
       "    }\n",
       "\n",
       "    .dataframe tbody tr th {\n",
       "        vertical-align: top;\n",
       "    }\n",
       "\n",
       "    .dataframe thead th {\n",
       "        text-align: right;\n",
       "    }\n",
       "</style>\n",
       "<table border=\"1\" class=\"dataframe\">\n",
       "  <thead>\n",
       "    <tr style=\"text-align: right;\">\n",
       "      <th></th>\n",
       "      <th>type</th>\n",
       "      <th>accuracy</th>\n",
       "      <th>auc_roc</th>\n",
       "      <th>f1_score</th>\n",
       "      <th>mae</th>\n",
       "      <th>mse</th>\n",
       "      <th>precision</th>\n",
       "      <th>r2</th>\n",
       "      <th>recall</th>\n",
       "      <th>rmse</th>\n",
       "    </tr>\n",
       "    <tr>\n",
       "      <th>dataset</th>\n",
       "      <th>algorithm</th>\n",
       "      <th></th>\n",
       "      <th></th>\n",
       "      <th></th>\n",
       "      <th></th>\n",
       "      <th></th>\n",
       "      <th></th>\n",
       "      <th></th>\n",
       "      <th></th>\n",
       "      <th></th>\n",
       "    </tr>\n",
       "  </thead>\n",
       "  <tbody>\n",
       "    <tr>\n",
       "      <th>boston</th>\n",
       "      <th>DecisionTree</th>\n",
       "      <td>NaN</td>\n",
       "      <td>NaN</td>\n",
       "      <td>NaN</td>\n",
       "      <td>47.572000</td>\n",
       "      <td>3698.810000</td>\n",
       "      <td>NaN</td>\n",
       "      <td>0.301868</td>\n",
       "      <td>NaN</td>\n",
       "      <td>60.817800</td>\n",
       "    </tr>\n",
       "    <tr>\n",
       "      <th>breast_cancer</th>\n",
       "      <th>SVM</th>\n",
       "      <td>0.95614</td>\n",
       "      <td>0.996397</td>\n",
       "      <td>0.956237</td>\n",
       "      <td>NaN</td>\n",
       "      <td>NaN</td>\n",
       "      <td>0.956488</td>\n",
       "      <td>NaN</td>\n",
       "      <td>0.95614</td>\n",
       "      <td>NaN</td>\n",
       "    </tr>\n",
       "    <tr>\n",
       "      <th>california</th>\n",
       "      <th>XGBoost</th>\n",
       "      <td>NaN</td>\n",
       "      <td>NaN</td>\n",
       "      <td>NaN</td>\n",
       "      <td>0.329314</td>\n",
       "      <td>0.239564</td>\n",
       "      <td>NaN</td>\n",
       "      <td>0.817184</td>\n",
       "      <td>NaN</td>\n",
       "      <td>0.489453</td>\n",
       "    </tr>\n",
       "    <tr>\n",
       "      <th>iris</th>\n",
       "      <th>RandomForest</th>\n",
       "      <td>1.00000</td>\n",
       "      <td>NaN</td>\n",
       "      <td>1.000000</td>\n",
       "      <td>NaN</td>\n",
       "      <td>NaN</td>\n",
       "      <td>1.000000</td>\n",
       "      <td>NaN</td>\n",
       "      <td>1.00000</td>\n",
       "      <td>NaN</td>\n",
       "    </tr>\n",
       "  </tbody>\n",
       "</table>\n",
       "</div>"
      ],
      "text/plain": [
       "type                        accuracy   auc_roc  f1_score        mae  \\\n",
       "dataset       algorithm                                               \n",
       "boston        DecisionTree       NaN       NaN       NaN  47.572000   \n",
       "breast_cancer SVM            0.95614  0.996397  0.956237        NaN   \n",
       "california    XGBoost            NaN       NaN       NaN   0.329314   \n",
       "iris          RandomForest   1.00000       NaN  1.000000        NaN   \n",
       "\n",
       "type                                mse  precision        r2   recall  \\\n",
       "dataset       algorithm                                                 \n",
       "boston        DecisionTree  3698.810000        NaN  0.301868      NaN   \n",
       "breast_cancer SVM                   NaN   0.956488       NaN  0.95614   \n",
       "california    XGBoost          0.239564        NaN  0.817184      NaN   \n",
       "iris          RandomForest          NaN   1.000000       NaN  1.00000   \n",
       "\n",
       "type                             rmse  \n",
       "dataset       algorithm                \n",
       "boston        DecisionTree  60.817800  \n",
       "breast_cancer SVM                 NaN  \n",
       "california    XGBoost        0.489453  \n",
       "iris          RandomForest        NaN  "
      ]
     },
     "execution_count": 30,
     "metadata": {},
     "output_type": "execute_result"
    }
   ],
   "source": [
    "def fetch_results():\n",
    "    with engine.connect() as connection:  # Use SQLAlchemy connection\n",
    "        df = pd.read_sql(text(\"\"\"\n",
    "            SELECT e.dataset, m.algorithm, me.type, me.value \n",
    "            FROM Experiments e \n",
    "            JOIN Models m ON e.model_id = m.id\n",
    "            JOIN Metrics me ON e.id = me.experiment_id\n",
    "        \"\"\"), connection) # Pass the SQLAlchemy connection to read_sql\n",
    "\n",
    "        df_agg = df.groupby(['dataset', 'algorithm', 'type'])['value'].mean().reset_index() \n",
    "\n",
    "\n",
    "        return df_agg.pivot(index=['dataset', 'algorithm'], columns='type', values='value')\n",
    "\n",
    "\n",
    "df_results = fetch_results()\n",
    "df_results\n"
   ]
  },
  {
   "cell_type": "code",
   "execution_count": 31,
   "metadata": {
    "vscode": {
     "languageId": "ruby"
    }
   },
   "outputs": [],
   "source": [
    "def fetch_detailed_results():\n",
    "    with engine.connect() as connection:  # Use SQLAlchemy connection\n",
    "        df = pd.read_sql(text(\"\"\"\n",
    "            SELECT e.dataset, m.algorithm, m.type AS model_type, me.type AS metric_type, me.value\n",
    "            FROM Experiments e\n",
    "            JOIN Models m ON e.model_id = m.id\n",
    "            JOIN Metrics me ON e.id = me.experiment_id\n",
    "        \"\"\"), connection)  # Pass SQLAlchemy connection\n",
    "        \n",
    "        df_pivot = df.pivot_table(index=['dataset', 'algorithm', 'model_type'], columns='metric_type', values='value', aggfunc='mean').reset_index()\n",
    "        return df_pivot\n",
    "\n",
    "df_detailed_results = fetch_detailed_results()\n",
    "\n",
    "df_detailed_results['model_type'] = df_detailed_results['model_type'].map({0: 'Classificação', 1: 'Regressão'})\n",
    "\n",
    "classification_results = df_detailed_results[df_detailed_results['model_type'] == 'Classificação'].dropna(axis=1, how='all')\n",
    "regression_results = df_detailed_results[df_detailed_results['model_type'] == 'Regressão'].dropna(axis=1, how='all')"
   ]
  },
  {
   "cell_type": "code",
   "execution_count": 32,
   "metadata": {
    "vscode": {
     "languageId": "ruby"
    }
   },
   "outputs": [
    {
     "data": {
      "text/html": [
       "<div>\n",
       "<style scoped>\n",
       "    .dataframe tbody tr th:only-of-type {\n",
       "        vertical-align: middle;\n",
       "    }\n",
       "\n",
       "    .dataframe tbody tr th {\n",
       "        vertical-align: top;\n",
       "    }\n",
       "\n",
       "    .dataframe thead th {\n",
       "        text-align: right;\n",
       "    }\n",
       "</style>\n",
       "<table border=\"1\" class=\"dataframe\">\n",
       "  <thead>\n",
       "    <tr style=\"text-align: right;\">\n",
       "      <th>metric_type</th>\n",
       "      <th>dataset</th>\n",
       "      <th>algorithm</th>\n",
       "      <th>model_type</th>\n",
       "      <th>accuracy</th>\n",
       "      <th>auc_roc</th>\n",
       "      <th>f1_score</th>\n",
       "      <th>precision</th>\n",
       "      <th>recall</th>\n",
       "    </tr>\n",
       "  </thead>\n",
       "  <tbody>\n",
       "    <tr>\n",
       "      <th>1</th>\n",
       "      <td>breast_cancer</td>\n",
       "      <td>SVM</td>\n",
       "      <td>Classificação</td>\n",
       "      <td>0.95614</td>\n",
       "      <td>0.996397</td>\n",
       "      <td>0.956237</td>\n",
       "      <td>0.956488</td>\n",
       "      <td>0.95614</td>\n",
       "    </tr>\n",
       "    <tr>\n",
       "      <th>3</th>\n",
       "      <td>iris</td>\n",
       "      <td>RandomForest</td>\n",
       "      <td>Classificação</td>\n",
       "      <td>1.00000</td>\n",
       "      <td>NaN</td>\n",
       "      <td>1.000000</td>\n",
       "      <td>1.000000</td>\n",
       "      <td>1.00000</td>\n",
       "    </tr>\n",
       "  </tbody>\n",
       "</table>\n",
       "</div>"
      ],
      "text/plain": [
       "metric_type        dataset     algorithm     model_type  accuracy   auc_roc  \\\n",
       "1            breast_cancer           SVM  Classificação   0.95614  0.996397   \n",
       "3                     iris  RandomForest  Classificação   1.00000       NaN   \n",
       "\n",
       "metric_type  f1_score  precision   recall  \n",
       "1            0.956237   0.956488  0.95614  \n",
       "3            1.000000   1.000000  1.00000  "
      ]
     },
     "execution_count": 32,
     "metadata": {},
     "output_type": "execute_result"
    }
   ],
   "source": [
    "classification_results\n"
   ]
  },
  {
   "cell_type": "code",
   "execution_count": 33,
   "metadata": {
    "vscode": {
     "languageId": "ruby"
    }
   },
   "outputs": [
    {
     "data": {
      "text/html": [
       "<div>\n",
       "<style scoped>\n",
       "    .dataframe tbody tr th:only-of-type {\n",
       "        vertical-align: middle;\n",
       "    }\n",
       "\n",
       "    .dataframe tbody tr th {\n",
       "        vertical-align: top;\n",
       "    }\n",
       "\n",
       "    .dataframe thead th {\n",
       "        text-align: right;\n",
       "    }\n",
       "</style>\n",
       "<table border=\"1\" class=\"dataframe\">\n",
       "  <thead>\n",
       "    <tr style=\"text-align: right;\">\n",
       "      <th>metric_type</th>\n",
       "      <th>dataset</th>\n",
       "      <th>algorithm</th>\n",
       "      <th>model_type</th>\n",
       "      <th>mae</th>\n",
       "      <th>mse</th>\n",
       "      <th>r2</th>\n",
       "      <th>rmse</th>\n",
       "    </tr>\n",
       "  </thead>\n",
       "  <tbody>\n",
       "    <tr>\n",
       "      <th>0</th>\n",
       "      <td>boston</td>\n",
       "      <td>DecisionTree</td>\n",
       "      <td>Regressão</td>\n",
       "      <td>47.572000</td>\n",
       "      <td>3698.810000</td>\n",
       "      <td>0.301868</td>\n",
       "      <td>60.817800</td>\n",
       "    </tr>\n",
       "    <tr>\n",
       "      <th>2</th>\n",
       "      <td>california</td>\n",
       "      <td>XGBoost</td>\n",
       "      <td>Regressão</td>\n",
       "      <td>0.329314</td>\n",
       "      <td>0.239564</td>\n",
       "      <td>0.817184</td>\n",
       "      <td>0.489453</td>\n",
       "    </tr>\n",
       "  </tbody>\n",
       "</table>\n",
       "</div>"
      ],
      "text/plain": [
       "metric_type     dataset     algorithm model_type        mae          mse  \\\n",
       "0                boston  DecisionTree  Regressão  47.572000  3698.810000   \n",
       "2            california       XGBoost  Regressão   0.329314     0.239564   \n",
       "\n",
       "metric_type        r2       rmse  \n",
       "0            0.301868  60.817800  \n",
       "2            0.817184   0.489453  "
      ]
     },
     "execution_count": 33,
     "metadata": {},
     "output_type": "execute_result"
    }
   ],
   "source": [
    "regression_results"
   ]
  },
  {
   "cell_type": "code",
   "execution_count": 34,
   "metadata": {
    "vscode": {
     "languageId": "ruby"
    }
   },
   "outputs": [
    {
     "name": "stdout",
     "output_type": "stream",
     "text": [
      "Modelo DecisionTree treinado e salvo com sucesso!\n"
     ]
    }
   ],
   "source": [
    "train_and_save_model(\"iris\", \"classification\", \"DecisionTree\", DecisionTreeClassifier(criterion=\"entropy\", max_depth=3), {\"criterion\": \"entropy\", \"max_depth\": 3})"
   ]
  },
  {
   "cell_type": "code",
   "execution_count": 35,
   "metadata": {
    "vscode": {
     "languageId": "ruby"
    }
   },
   "outputs": [],
   "source": [
    "def fetch_detailed_results():\n",
    "    with engine.connect() as connection:  # Usar conexão SQLAlchemy\n",
    "        df = pd.read_sql(text(\"\"\"\n",
    "            SELECT e.dataset, m.algorithm, m.type AS model_type, me.type AS metric_type, me.value\n",
    "            FROM Experiments e\n",
    "            JOIN Models m ON e.model_id = m.id\n",
    "            JOIN Metrics me ON e.id = me.experiment_id\n",
    "        \"\"\"), connection)  # Passar a conexão para o Pandas\n",
    "\n",
    "        df_pivot = df.pivot_table(index=['dataset', 'algorithm', 'model_type'], columns='metric_type', values='value', aggfunc='mean').reset_index()\n",
    "        return df_pivot"
   ]
  },
  {
   "cell_type": "code",
   "execution_count": 38,
   "metadata": {
    "vscode": {
     "languageId": "ruby"
    }
   },
   "outputs": [],
   "source": [
    "df_detailed_results02 = fetch_detailed_results()\n",
    "\n",
    "df_detailed_results02['model_type'] = df_detailed_results02['model_type'].map({0: 'Classificação', 1: 'Regressão'})\n",
    "\n",
    "classification_results_02 = df_detailed_results02[df_detailed_results02['model_type'] == 'Classificação'].dropna(axis=1, how='all')\n",
    "regression_results_02 = df_detailed_results02[df_detailed_results02['model_type'] == 'Regressão'].dropna(axis=1, how='all')"
   ]
  },
  {
   "cell_type": "code",
   "execution_count": 40,
   "metadata": {
    "vscode": {
     "languageId": "ruby"
    }
   },
   "outputs": [
    {
     "data": {
      "text/html": [
       "<div>\n",
       "<style scoped>\n",
       "    .dataframe tbody tr th:only-of-type {\n",
       "        vertical-align: middle;\n",
       "    }\n",
       "\n",
       "    .dataframe tbody tr th {\n",
       "        vertical-align: top;\n",
       "    }\n",
       "\n",
       "    .dataframe thead th {\n",
       "        text-align: right;\n",
       "    }\n",
       "</style>\n",
       "<table border=\"1\" class=\"dataframe\">\n",
       "  <thead>\n",
       "    <tr style=\"text-align: right;\">\n",
       "      <th>metric_type</th>\n",
       "      <th>dataset</th>\n",
       "      <th>algorithm</th>\n",
       "      <th>model_type</th>\n",
       "      <th>accuracy</th>\n",
       "      <th>auc_roc</th>\n",
       "      <th>f1_score</th>\n",
       "      <th>mae</th>\n",
       "      <th>mse</th>\n",
       "      <th>precision</th>\n",
       "      <th>r2</th>\n",
       "      <th>recall</th>\n",
       "      <th>rmse</th>\n",
       "    </tr>\n",
       "  </thead>\n",
       "  <tbody>\n",
       "    <tr>\n",
       "      <th>0</th>\n",
       "      <td>boston</td>\n",
       "      <td>DecisionTree</td>\n",
       "      <td>Regressão</td>\n",
       "      <td>NaN</td>\n",
       "      <td>NaN</td>\n",
       "      <td>NaN</td>\n",
       "      <td>47.572000</td>\n",
       "      <td>3698.810000</td>\n",
       "      <td>NaN</td>\n",
       "      <td>0.301868</td>\n",
       "      <td>NaN</td>\n",
       "      <td>60.817800</td>\n",
       "    </tr>\n",
       "    <tr>\n",
       "      <th>1</th>\n",
       "      <td>breast_cancer</td>\n",
       "      <td>SVM</td>\n",
       "      <td>Classificação</td>\n",
       "      <td>0.95614</td>\n",
       "      <td>0.996397</td>\n",
       "      <td>0.956237</td>\n",
       "      <td>NaN</td>\n",
       "      <td>NaN</td>\n",
       "      <td>0.956488</td>\n",
       "      <td>NaN</td>\n",
       "      <td>0.95614</td>\n",
       "      <td>NaN</td>\n",
       "    </tr>\n",
       "    <tr>\n",
       "      <th>2</th>\n",
       "      <td>california</td>\n",
       "      <td>XGBoost</td>\n",
       "      <td>Regressão</td>\n",
       "      <td>NaN</td>\n",
       "      <td>NaN</td>\n",
       "      <td>NaN</td>\n",
       "      <td>0.329314</td>\n",
       "      <td>0.239564</td>\n",
       "      <td>NaN</td>\n",
       "      <td>0.817184</td>\n",
       "      <td>NaN</td>\n",
       "      <td>0.489453</td>\n",
       "    </tr>\n",
       "    <tr>\n",
       "      <th>3</th>\n",
       "      <td>iris</td>\n",
       "      <td>DecisionTree</td>\n",
       "      <td>Classificação</td>\n",
       "      <td>1.00000</td>\n",
       "      <td>NaN</td>\n",
       "      <td>1.000000</td>\n",
       "      <td>NaN</td>\n",
       "      <td>NaN</td>\n",
       "      <td>1.000000</td>\n",
       "      <td>NaN</td>\n",
       "      <td>1.00000</td>\n",
       "      <td>NaN</td>\n",
       "    </tr>\n",
       "    <tr>\n",
       "      <th>4</th>\n",
       "      <td>iris</td>\n",
       "      <td>RandomForest</td>\n",
       "      <td>Classificação</td>\n",
       "      <td>1.00000</td>\n",
       "      <td>NaN</td>\n",
       "      <td>1.000000</td>\n",
       "      <td>NaN</td>\n",
       "      <td>NaN</td>\n",
       "      <td>1.000000</td>\n",
       "      <td>NaN</td>\n",
       "      <td>1.00000</td>\n",
       "      <td>NaN</td>\n",
       "    </tr>\n",
       "  </tbody>\n",
       "</table>\n",
       "</div>"
      ],
      "text/plain": [
       "metric_type        dataset     algorithm     model_type  accuracy   auc_roc  \\\n",
       "0                   boston  DecisionTree      Regressão       NaN       NaN   \n",
       "1            breast_cancer           SVM  Classificação   0.95614  0.996397   \n",
       "2               california       XGBoost      Regressão       NaN       NaN   \n",
       "3                     iris  DecisionTree  Classificação   1.00000       NaN   \n",
       "4                     iris  RandomForest  Classificação   1.00000       NaN   \n",
       "\n",
       "metric_type  f1_score        mae          mse  precision        r2   recall  \\\n",
       "0                 NaN  47.572000  3698.810000        NaN  0.301868      NaN   \n",
       "1            0.956237        NaN          NaN   0.956488       NaN  0.95614   \n",
       "2                 NaN   0.329314     0.239564        NaN  0.817184      NaN   \n",
       "3            1.000000        NaN          NaN   1.000000       NaN  1.00000   \n",
       "4            1.000000        NaN          NaN   1.000000       NaN  1.00000   \n",
       "\n",
       "metric_type       rmse  \n",
       "0            60.817800  \n",
       "1                  NaN  \n",
       "2             0.489453  \n",
       "3                  NaN  \n",
       "4                  NaN  "
      ]
     },
     "execution_count": 40,
     "metadata": {},
     "output_type": "execute_result"
    }
   ],
   "source": [
    "df_detailed_results02"
   ]
  },
  {
   "cell_type": "code",
   "execution_count": 41,
   "metadata": {
    "vscode": {
     "languageId": "ruby"
    }
   },
   "outputs": [
    {
     "data": {
      "text/html": [
       "<div>\n",
       "<style scoped>\n",
       "    .dataframe tbody tr th:only-of-type {\n",
       "        vertical-align: middle;\n",
       "    }\n",
       "\n",
       "    .dataframe tbody tr th {\n",
       "        vertical-align: top;\n",
       "    }\n",
       "\n",
       "    .dataframe thead th {\n",
       "        text-align: right;\n",
       "    }\n",
       "</style>\n",
       "<table border=\"1\" class=\"dataframe\">\n",
       "  <thead>\n",
       "    <tr style=\"text-align: right;\">\n",
       "      <th>metric_type</th>\n",
       "      <th>dataset</th>\n",
       "      <th>algorithm</th>\n",
       "      <th>model_type</th>\n",
       "      <th>accuracy</th>\n",
       "      <th>auc_roc</th>\n",
       "      <th>f1_score</th>\n",
       "      <th>precision</th>\n",
       "      <th>recall</th>\n",
       "    </tr>\n",
       "  </thead>\n",
       "  <tbody>\n",
       "    <tr>\n",
       "      <th>1</th>\n",
       "      <td>breast_cancer</td>\n",
       "      <td>SVM</td>\n",
       "      <td>Classificação</td>\n",
       "      <td>0.95614</td>\n",
       "      <td>0.996397</td>\n",
       "      <td>0.956237</td>\n",
       "      <td>0.956488</td>\n",
       "      <td>0.95614</td>\n",
       "    </tr>\n",
       "    <tr>\n",
       "      <th>3</th>\n",
       "      <td>iris</td>\n",
       "      <td>DecisionTree</td>\n",
       "      <td>Classificação</td>\n",
       "      <td>1.00000</td>\n",
       "      <td>NaN</td>\n",
       "      <td>1.000000</td>\n",
       "      <td>1.000000</td>\n",
       "      <td>1.00000</td>\n",
       "    </tr>\n",
       "    <tr>\n",
       "      <th>4</th>\n",
       "      <td>iris</td>\n",
       "      <td>RandomForest</td>\n",
       "      <td>Classificação</td>\n",
       "      <td>1.00000</td>\n",
       "      <td>NaN</td>\n",
       "      <td>1.000000</td>\n",
       "      <td>1.000000</td>\n",
       "      <td>1.00000</td>\n",
       "    </tr>\n",
       "  </tbody>\n",
       "</table>\n",
       "</div>"
      ],
      "text/plain": [
       "metric_type        dataset     algorithm     model_type  accuracy   auc_roc  \\\n",
       "1            breast_cancer           SVM  Classificação   0.95614  0.996397   \n",
       "3                     iris  DecisionTree  Classificação   1.00000       NaN   \n",
       "4                     iris  RandomForest  Classificação   1.00000       NaN   \n",
       "\n",
       "metric_type  f1_score  precision   recall  \n",
       "1            0.956237   0.956488  0.95614  \n",
       "3            1.000000   1.000000  1.00000  \n",
       "4            1.000000   1.000000  1.00000  "
      ]
     },
     "execution_count": 41,
     "metadata": {},
     "output_type": "execute_result"
    }
   ],
   "source": [
    "classification_results_02"
   ]
  },
  {
   "cell_type": "code",
   "execution_count": 42,
   "metadata": {
    "vscode": {
     "languageId": "ruby"
    }
   },
   "outputs": [
    {
     "data": {
      "text/html": [
       "<div>\n",
       "<style scoped>\n",
       "    .dataframe tbody tr th:only-of-type {\n",
       "        vertical-align: middle;\n",
       "    }\n",
       "\n",
       "    .dataframe tbody tr th {\n",
       "        vertical-align: top;\n",
       "    }\n",
       "\n",
       "    .dataframe thead th {\n",
       "        text-align: right;\n",
       "    }\n",
       "</style>\n",
       "<table border=\"1\" class=\"dataframe\">\n",
       "  <thead>\n",
       "    <tr style=\"text-align: right;\">\n",
       "      <th>metric_type</th>\n",
       "      <th>dataset</th>\n",
       "      <th>algorithm</th>\n",
       "      <th>model_type</th>\n",
       "      <th>mae</th>\n",
       "      <th>mse</th>\n",
       "      <th>r2</th>\n",
       "      <th>rmse</th>\n",
       "    </tr>\n",
       "  </thead>\n",
       "  <tbody>\n",
       "    <tr>\n",
       "      <th>0</th>\n",
       "      <td>boston</td>\n",
       "      <td>DecisionTree</td>\n",
       "      <td>Regressão</td>\n",
       "      <td>47.572000</td>\n",
       "      <td>3698.810000</td>\n",
       "      <td>0.301868</td>\n",
       "      <td>60.817800</td>\n",
       "    </tr>\n",
       "    <tr>\n",
       "      <th>2</th>\n",
       "      <td>california</td>\n",
       "      <td>XGBoost</td>\n",
       "      <td>Regressão</td>\n",
       "      <td>0.329314</td>\n",
       "      <td>0.239564</td>\n",
       "      <td>0.817184</td>\n",
       "      <td>0.489453</td>\n",
       "    </tr>\n",
       "  </tbody>\n",
       "</table>\n",
       "</div>"
      ],
      "text/plain": [
       "metric_type     dataset     algorithm model_type        mae          mse  \\\n",
       "0                boston  DecisionTree  Regressão  47.572000  3698.810000   \n",
       "2            california       XGBoost  Regressão   0.329314     0.239564   \n",
       "\n",
       "metric_type        r2       rmse  \n",
       "0            0.301868  60.817800  \n",
       "2            0.817184   0.489453  "
      ]
     },
     "execution_count": 42,
     "metadata": {},
     "output_type": "execute_result"
    }
   ],
   "source": [
    "regression_results_02"
   ]
  },
  {
   "cell_type": "code",
   "execution_count": 44,
   "metadata": {},
   "outputs": [
    {
     "name": "stdout",
     "output_type": "stream",
     "text": [
      "boston (DecisionTree) : { max_depth = 5 }\n",
      "breast_cancer (SVM) : { kernel = linear }\n",
      "california (XGBoost) : { n_estimators = 100 }\n",
      "iris (DecisionTree) : { criterion = entropy; max_depth = 3 }\n",
      "iris (RandomForest) : { n_estimators = 100 }\n"
     ]
    }
   ],
   "source": [
    "import pandas as pd\n",
    "from sqlalchemy import create_engine, text\n",
    "\n",
    "# ... (your existing connection details USER, PASSWORD, HOST, DATABASE)\n",
    "\n",
    "engine = create_engine(f\"mysql+pymysql://{USER}:{PASSWORD}@{HOST}/{DATABASE}\")\n",
    "\n",
    "def fetch_models_and_hyperparams():\n",
    "    with engine.connect() as connection:  # Use SQLAlchemy connection\n",
    "        df = pd.read_sql(text(\"\"\"\n",
    "            SELECT e.dataset, m.algorithm, h.name AS hyperparameter_name, h.value AS hyperparameter_value\n",
    "            FROM Experiments e\n",
    "            JOIN Models m ON e.model_id = m.id\n",
    "            JOIN Hyperparameters h ON m.id = h.model_id\n",
    "        \"\"\"), connection)  # Pass SQLAlchemy connection\n",
    "\n",
    "        results = {}\n",
    "        for (dataset, algorithm), group in df.groupby(['dataset', 'algorithm']):\n",
    "            hyperparams = \"; \".join(f\"{row['hyperparameter_name']} = {row['hyperparameter_value']}\" for _, row in group.iterrows())\n",
    "            results[f\"{dataset} ({algorithm})\"] = f\"{{ {hyperparams} }}\"\n",
    "\n",
    "        return results\n",
    "\n",
    "models_and_hyperparams = fetch_models_and_hyperparams()\n",
    "for model, hyperparams in models_and_hyperparams.items():\n",
    "    print(f\"{model} : {hyperparams}\")\n"
   ]
  }
 ],
 "metadata": {
  "kernelspec": {
   "display_name": "venv",
   "language": "python",
   "name": "python3"
  },
  "language_info": {
   "codemirror_mode": {
    "name": "ipython",
    "version": 3
   },
   "file_extension": ".py",
   "mimetype": "text/x-python",
   "name": "python",
   "nbconvert_exporter": "python",
   "pygments_lexer": "ipython3",
   "version": "3.12.1"
  }
 },
 "nbformat": 4,
 "nbformat_minor": 2
}
