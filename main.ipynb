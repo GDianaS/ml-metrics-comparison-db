{
 "cells": [
  {
   "cell_type": "markdown",
   "metadata": {},
   "source": [
    "## 1. Configuração Banco de Dados ##"
   ]
  },
  {
   "cell_type": "markdown",
   "metadata": {},
   "source": [
    "###  Conexão com o Banco de Dados ###"
   ]
  },
  {
   "cell_type": "code",
   "execution_count": 29,
   "metadata": {},
   "outputs": [],
   "source": [
    "from sqlalchemy import create_engine, text"
   ]
  },
  {
   "cell_type": "code",
   "execution_count": 4,
   "metadata": {},
   "outputs": [],
   "source": [
    "USER = \"your_user\"\n",
    "PASSWORD = \"your_password\"\n",
    "HOST = \"localhost\"\n",
    "DATABASE = \"your_database\" "
   ]
  },
  {
   "cell_type": "code",
   "execution_count": 31,
   "metadata": {},
   "outputs": [],
   "source": [
    "# Criar conexão usando SQLAlchemy\n",
    "engine = create_engine(f\"mysql+pymysql://{USER}:{PASSWORD}@{HOST}/{DATABASE}\")"
   ]
  },
  {
   "cell_type": "markdown",
   "metadata": {},
   "source": [
    "### Criação das Tabelas ###"
   ]
  },
  {
   "cell_type": "code",
   "execution_count": 59,
   "metadata": {},
   "outputs": [],
   "source": [
    "with engine.connect() as connection:\n",
    "    tables_to_drop = [\"Metrics\", \"Experiments\", \"LearnStrategies\", \"Hyperparameters\", \"Models\"]\n",
    "    for table in tables_to_drop:\n",
    "        connection.execute(text(f\"DROP TABLE IF EXISTS {table};\"))\n",
    "    connection.commit() # Confirma a remoção das tabelas"
   ]
  },
  {
   "cell_type": "code",
   "execution_count": 60,
   "metadata": {},
   "outputs": [],
   "source": [
    "tables = {\n",
    "    \"Models\": \"\"\"\n",
    "    CREATE TABLE IF NOT EXISTS Models (\n",
    "        id INT AUTO_INCREMENT PRIMARY KEY,\n",
    "        type INT,  -- 0: Classificação, 1: Regressão\n",
    "        algorithm VARCHAR(50)\n",
    "    )\n",
    "    \"\"\",\n",
    "    \n",
    "    \"Hyperparameters\": \"\"\"\n",
    "    CREATE TABLE IF NOT EXISTS Hyperparameters (\n",
    "        id INT AUTO_INCREMENT PRIMARY KEY,\n",
    "        model_id INT,\n",
    "        name VARCHAR(50),\n",
    "        value VARCHAR(50),\n",
    "        FOREIGN KEY (model_id) REFERENCES Models(id) ON DELETE CASCADE\n",
    "    )\n",
    "    \"\"\",\n",
    "    \n",
    "    \"LearnStrategies\": \"\"\"\n",
    "    CREATE TABLE IF NOT EXISTS LearnStrategies (\n",
    "        id INT AUTO_INCREMENT PRIMARY KEY,\n",
    "        model_id INT NOT NULL,\n",
    "        preprocessing_type VARCHAR(50) NOT NULL,  -- Scaling, Sampling, Feature Selection\n",
    "        data_sampling VARCHAR(50) NOT NULL,  -- Undersampling, Oversampling, Stratified Sampling\n",
    "        type VARCHAR(50) NOT NULL,  -- Cross-Validation, Hold-out\n",
    "        len_data JSON NOT NULL,  -- Lista [Treino, Teste, Validação]\n",
    "        FOREIGN KEY (model_id) REFERENCES Models(id) ON DELETE CASCADE\n",
    "    )\n",
    "    \"\"\",\n",
    "    \n",
    "    \"Experiments\": \"\"\"\n",
    "    CREATE TABLE IF NOT EXISTS Experiments (\n",
    "        id INT AUTO_INCREMENT PRIMARY KEY,\n",
    "        model_id INT,\n",
    "        dataset VARCHAR(50),\n",
    "        date_created TIMESTAMP DEFAULT CURRENT_TIMESTAMP,\n",
    "        FOREIGN KEY (model_id) REFERENCES Models(id) ON DELETE CASCADE\n",
    "    )\n",
    "    \"\"\",\n",
    "\n",
    "    \"Metrics\": \"\"\"\n",
    "    CREATE TABLE IF NOT EXISTS Metrics (\n",
    "        id INT AUTO_INCREMENT PRIMARY KEY,\n",
    "        experiment_id INT,\n",
    "        type VARCHAR(50),\n",
    "        value FLOAT,\n",
    "        FOREIGN KEY (experiment_id) REFERENCES Experiments(id) ON DELETE CASCADE\n",
    "    )\n",
    "    \"\"\"\n",
    "}"
   ]
  },
  {
   "cell_type": "code",
   "execution_count": 61,
   "metadata": {},
   "outputs": [
    {
     "name": "stdout",
     "output_type": "stream",
     "text": [
      "Tabela Models criada com sucesso! ✅\n",
      "Tabela Hyperparameters criada com sucesso! ✅\n",
      "Tabela LearnStrategies criada com sucesso! ✅\n",
      "Tabela Experiments criada com sucesso! ✅\n",
      "Tabela Metrics criada com sucesso! ✅\n",
      "Todas as tabelas foram criadas corretamente! 🎉\n"
     ]
    }
   ],
   "source": [
    "with engine.connect() as connection:\n",
    "    for table_name, sql_query in tables.items():\n",
    "        connection.execute(text(sql_query)) # Use text() here!\n",
    "        print(f\"Tabela {table_name} criada com sucesso! ✅\")\n",
    "\n",
    "print(\"Todas as tabelas foram criadas corretamente! 🎉\")"
   ]
  },
  {
   "cell_type": "markdown",
   "metadata": {},
   "source": [
    "## 2.Funções de Treinamento e Avaliação ##"
   ]
  },
  {
   "cell_type": "markdown",
   "metadata": {},
   "source": [
    "### Importação das Bibliotecas ###"
   ]
  },
  {
   "cell_type": "code",
   "execution_count": 62,
   "metadata": {},
   "outputs": [],
   "source": [
    "import pandas as pd\n",
    "import numpy as np \n",
    "import matplotlib.pyplot as plt\n",
    "import seaborn as sns "
   ]
  },
  {
   "cell_type": "code",
   "execution_count": 63,
   "metadata": {},
   "outputs": [],
   "source": [
    "from sklearn.model_selection import train_test_split, cross_val_score\n",
    "from sklearn.preprocessing import StandardScaler\n",
    "from sklearn.ensemble import RandomForestClassifier, RandomForestRegressor\n",
    "from sklearn.svm import SVC, SVR\n",
    "from sklearn.tree import DecisionTreeClassifier, DecisionTreeRegressor\n",
    "from sklearn.linear_model import LinearRegression\n",
    "from xgboost import XGBClassifier, XGBRegressor\n",
    "from sklearn.metrics import accuracy_score, precision_score, recall_score, f1_score, roc_auc_score, mean_squared_error, mean_absolute_error, r2_score"
   ]
  },
  {
   "cell_type": "markdown",
   "metadata": {},
   "source": [
    "### Carregar Datasets ###"
   ]
  },
  {
   "cell_type": "code",
   "execution_count": 64,
   "metadata": {},
   "outputs": [],
   "source": [
    "def load_dataset(name):\n",
    "    from sklearn.datasets import load_iris, load_breast_cancer, load_diabetes, fetch_california_housing\n",
    "    \n",
    "    if name == \"iris\":\n",
    "        data = load_iris()\n",
    "    elif name == \"breast_cancer\":\n",
    "        data = load_breast_cancer()\n",
    "    elif name == \"diabetes\":\n",
    "        from sklearn.datasets import load_diabetes \n",
    "        data = load_diabetes()\n",
    "    elif name == \"california\":\n",
    "        data = fetch_california_housing()\n",
    "    else:\n",
    "        raise ValueError(\"Dataset não suportado\")\n",
    "    \n",
    "    return pd.DataFrame(data.data, columns=data.feature_names), pd.Series(data.target)\n"
   ]
  },
  {
   "cell_type": "markdown",
   "metadata": {},
   "source": [
    "### Função de Treinamento e Salvamento no BD ###"
   ]
  },
  {
   "cell_type": "code",
   "execution_count": 65,
   "metadata": {},
   "outputs": [],
   "source": [
    "def train_and_save_model(dataset_name, model_type, algorithm, model, params={}):\n",
    "    # Carregar dataset\n",
    "    X, y = load_dataset(dataset_name)\n",
    "    \n",
    "    # Normalizar os dados\n",
    "    scaler = StandardScaler()\n",
    "    X_scaled = scaler.fit_transform(X)\n",
    "\n",
    "    # Separar treino e teste\n",
    "    X_train, X_test, y_train, y_test = train_test_split(X_scaled, y, test_size=0.2, random_state=42)\n",
    "\n",
    "    # Treinar o modelo\n",
    "    model.set_params(**params)\n",
    "    model.fit(X_train, y_train)\n",
    "\n",
    "    # Fazer previsões\n",
    "    y_pred = model.predict(X_test)\n",
    "    \n",
    "    if model_type == \"classification\":\n",
    "        metrics = {\n",
    "            \"accuracy\": accuracy_score(y_test, y_pred),\n",
    "            \"precision\": precision_score(y_test, y_pred, average='weighted'),\n",
    "            \"recall\": recall_score(y_test, y_pred, average='weighted'),\n",
    "            \"f1_score\": f1_score(y_test, y_pred, average='weighted'),\n",
    "            \"auc_roc\": roc_auc_score(y_test, model.decision_function(X_test), multi_class='ovr') if hasattr(model, \"decision_function\") else None\n",
    "        }\n",
    "    else:  # Regression\n",
    "        metrics = {\n",
    "            \"mse\": mean_squared_error(y_test, y_pred),\n",
    "            \"rmse\": np.sqrt(mean_squared_error(y_test, y_pred)),\n",
    "            \"mae\": mean_absolute_error(y_test, y_pred),\n",
    "            \"r2\": r2_score(y_test, y_pred)\n",
    "        }\n",
    "\n",
    "    with engine.connect() as connection:\n",
    "        try:\n",
    "            # Salvar model\n",
    "            result = connection.execute(text(\"INSERT INTO Models (type, algorithm) VALUES (:type, :algorithm)\"),\n",
    "                                        {\"type\": 0 if model_type == \"classification\" else 1, \"algorithm\": algorithm})\n",
    "            model_id = result.lastrowid\n",
    "\n",
    "            # Salvar hyperparameters\n",
    "            for name, value in params.items():\n",
    "                connection.execute(text(\"INSERT INTO Hyperparameters (model_id, name, value) VALUES (:model_id, :name, :value)\"),\n",
    "                                 {\"model_id\": model_id, \"name\": name, \"value\": str(value)})\n",
    "\n",
    "            # Salvar experiment\n",
    "            result = connection.execute(text(\"INSERT INTO Experiments (model_id, dataset) VALUES (:model_id, :dataset)\"),\n",
    "                                        {\"model_id\": model_id, \"dataset\": dataset_name})\n",
    "            experiment_id = result.lastrowid\n",
    "\n",
    "\n",
    "            # Salvar metrics\n",
    "            for metric, value in metrics.items():\n",
    "                connection.execute(text(\"INSERT INTO Metrics (experiment_id, type, value) VALUES (:experiment_id, :type, :value)\"),\n",
    "                             {\"experiment_id\": experiment_id, \"type\": metric, \"value\": value})\n",
    "\n",
    "            connection.commit()\n",
    "            print(f\"Modelo {algorithm} treinado e salvo com sucesso!\")\n",
    "\n",
    "        except Exception as e:\n",
    "            connection.rollback()\n",
    "            print(f\"Erro ao salvar o modelo: {e}\")\n",
    "            raise"
   ]
  },
  {
   "cell_type": "code",
   "execution_count": 66,
   "metadata": {},
   "outputs": [
    {
     "name": "stdout",
     "output_type": "stream",
     "text": [
      "Modelo RandomForest treinado e salvo com sucesso!\n",
      "Modelo SVM treinado e salvo com sucesso!\n",
      "Modelo DecisionTree treinado e salvo com sucesso!\n",
      "Modelo XGBoost treinado e salvo com sucesso!\n"
     ]
    }
   ],
   "source": [
    "# Treinar e armazenar modelos\n",
    "train_and_save_model(\"iris\", \"classification\", \"RandomForest\", RandomForestClassifier(), {\"n_estimators\": 100})\n",
    "train_and_save_model(\"breast_cancer\", \"classification\", \"SVM\", SVC(probability=True), {\"kernel\": \"linear\"})\n",
    "train_and_save_model(\"diabetes\", \"regression\", \"DecisionTree\", DecisionTreeRegressor(), {\"max_depth\": 5})\n",
    "train_and_save_model(\"california\", \"regression\", \"XGBoost\", XGBRegressor(n_estimators=100, max_depth=5, learning_rate=0.1, subsample=0.7, colsample_bytree=0.7), {\"n_estimators\": 100})"
   ]
  },
  {
   "cell_type": "markdown",
   "metadata": {},
   "source": [
    "## 3. Relatórios"
   ]
  },
  {
   "cell_type": "markdown",
   "metadata": {},
   "source": [
    "### Apresentação Geral dos Dados"
   ]
  },
  {
   "cell_type": "code",
   "execution_count": 67,
   "metadata": {},
   "outputs": [
    {
     "data": {
      "text/html": [
       "<div>\n",
       "<style scoped>\n",
       "    .dataframe tbody tr th:only-of-type {\n",
       "        vertical-align: middle;\n",
       "    }\n",
       "\n",
       "    .dataframe tbody tr th {\n",
       "        vertical-align: top;\n",
       "    }\n",
       "\n",
       "    .dataframe thead th {\n",
       "        text-align: right;\n",
       "    }\n",
       "</style>\n",
       "<table border=\"1\" class=\"dataframe\">\n",
       "  <thead>\n",
       "    <tr style=\"text-align: right;\">\n",
       "      <th></th>\n",
       "      <th>type</th>\n",
       "      <th>accuracy</th>\n",
       "      <th>auc_roc</th>\n",
       "      <th>f1_score</th>\n",
       "      <th>mae</th>\n",
       "      <th>mse</th>\n",
       "      <th>precision</th>\n",
       "      <th>r2</th>\n",
       "      <th>recall</th>\n",
       "      <th>rmse</th>\n",
       "    </tr>\n",
       "    <tr>\n",
       "      <th>dataset</th>\n",
       "      <th>algorithm</th>\n",
       "      <th></th>\n",
       "      <th></th>\n",
       "      <th></th>\n",
       "      <th></th>\n",
       "      <th></th>\n",
       "      <th></th>\n",
       "      <th></th>\n",
       "      <th></th>\n",
       "      <th></th>\n",
       "    </tr>\n",
       "  </thead>\n",
       "  <tbody>\n",
       "    <tr>\n",
       "      <th>breast_cancer</th>\n",
       "      <th>SVM</th>\n",
       "      <td>0.95614</td>\n",
       "      <td>0.996397</td>\n",
       "      <td>0.956237</td>\n",
       "      <td>NaN</td>\n",
       "      <td>NaN</td>\n",
       "      <td>0.956488</td>\n",
       "      <td>NaN</td>\n",
       "      <td>0.95614</td>\n",
       "      <td>NaN</td>\n",
       "    </tr>\n",
       "    <tr>\n",
       "      <th>california</th>\n",
       "      <th>XGBoost</th>\n",
       "      <td>NaN</td>\n",
       "      <td>NaN</td>\n",
       "      <td>NaN</td>\n",
       "      <td>0.329314</td>\n",
       "      <td>0.239564</td>\n",
       "      <td>NaN</td>\n",
       "      <td>0.817184</td>\n",
       "      <td>NaN</td>\n",
       "      <td>0.489453</td>\n",
       "    </tr>\n",
       "    <tr>\n",
       "      <th>diabetes</th>\n",
       "      <th>DecisionTree</th>\n",
       "      <td>NaN</td>\n",
       "      <td>NaN</td>\n",
       "      <td>NaN</td>\n",
       "      <td>46.152500</td>\n",
       "      <td>3633.190000</td>\n",
       "      <td>NaN</td>\n",
       "      <td>0.314254</td>\n",
       "      <td>NaN</td>\n",
       "      <td>60.275900</td>\n",
       "    </tr>\n",
       "    <tr>\n",
       "      <th>iris</th>\n",
       "      <th>RandomForest</th>\n",
       "      <td>1.00000</td>\n",
       "      <td>NaN</td>\n",
       "      <td>1.000000</td>\n",
       "      <td>NaN</td>\n",
       "      <td>NaN</td>\n",
       "      <td>1.000000</td>\n",
       "      <td>NaN</td>\n",
       "      <td>1.00000</td>\n",
       "      <td>NaN</td>\n",
       "    </tr>\n",
       "  </tbody>\n",
       "</table>\n",
       "</div>"
      ],
      "text/plain": [
       "type                        accuracy   auc_roc  f1_score        mae  \\\n",
       "dataset       algorithm                                               \n",
       "breast_cancer SVM            0.95614  0.996397  0.956237        NaN   \n",
       "california    XGBoost            NaN       NaN       NaN   0.329314   \n",
       "diabetes      DecisionTree       NaN       NaN       NaN  46.152500   \n",
       "iris          RandomForest   1.00000       NaN  1.000000        NaN   \n",
       "\n",
       "type                                mse  precision        r2   recall  \\\n",
       "dataset       algorithm                                                 \n",
       "breast_cancer SVM                   NaN   0.956488       NaN  0.95614   \n",
       "california    XGBoost          0.239564        NaN  0.817184      NaN   \n",
       "diabetes      DecisionTree  3633.190000        NaN  0.314254      NaN   \n",
       "iris          RandomForest          NaN   1.000000       NaN  1.00000   \n",
       "\n",
       "type                             rmse  \n",
       "dataset       algorithm                \n",
       "breast_cancer SVM                 NaN  \n",
       "california    XGBoost        0.489453  \n",
       "diabetes      DecisionTree  60.275900  \n",
       "iris          RandomForest        NaN  "
      ]
     },
     "execution_count": 67,
     "metadata": {},
     "output_type": "execute_result"
    }
   ],
   "source": [
    "def fetch_results():\n",
    "    with engine.connect() as connection: \n",
    "        df = pd.read_sql(text(\"\"\"\n",
    "            SELECT e.dataset, m.algorithm, me.type, me.value \n",
    "            FROM Experiments e \n",
    "            JOIN Models m ON e.model_id = m.id\n",
    "            JOIN Metrics me ON e.id = me.experiment_id\n",
    "        \"\"\"), connection)\n",
    "\n",
    "        df_agg = df.groupby(['dataset', 'algorithm', 'type'])['value'].mean().reset_index() # Função de agregação\n",
    "\n",
    "        return df_agg.pivot(index=['dataset', 'algorithm'], columns='type', values='value')\n",
    "\n",
    "\n",
    "df_results = fetch_results()\n",
    "df_results\n"
   ]
  },
  {
   "cell_type": "code",
   "execution_count": 68,
   "metadata": {
    "vscode": {
     "languageId": "ruby"
    }
   },
   "outputs": [],
   "source": [
    "def fetch_detailed_results():\n",
    "    with engine.connect() as connection:\n",
    "        df = pd.read_sql(text(\"\"\"\n",
    "            SELECT e.dataset, m.algorithm, m.type AS model_type, me.type AS metric_type, me.value\n",
    "            FROM Experiments e\n",
    "            JOIN Models m ON e.model_id = m.id\n",
    "            JOIN Metrics me ON e.id = me.experiment_id\n",
    "        \"\"\"), connection) \n",
    "        \n",
    "        df_pivot = df.pivot_table(index=['dataset', 'algorithm', 'model_type'], columns='metric_type', values='value', aggfunc='mean').reset_index()\n",
    "        return df_pivot\n",
    "\n",
    "df_detailed_results = fetch_detailed_results()\n",
    "\n",
    "df_detailed_results['model_type'] = df_detailed_results['model_type'].map({0: 'Classificação', 1: 'Regressão'})\n",
    "\n",
    "classification_results = df_detailed_results[df_detailed_results['model_type'] == 'Classificação'].dropna(axis=1, how='all')\n",
    "regression_results = df_detailed_results[df_detailed_results['model_type'] == 'Regressão'].dropna(axis=1, how='all')"
   ]
  },
  {
   "cell_type": "code",
   "execution_count": 69,
   "metadata": {
    "vscode": {
     "languageId": "ruby"
    }
   },
   "outputs": [
    {
     "data": {
      "text/html": [
       "<div>\n",
       "<style scoped>\n",
       "    .dataframe tbody tr th:only-of-type {\n",
       "        vertical-align: middle;\n",
       "    }\n",
       "\n",
       "    .dataframe tbody tr th {\n",
       "        vertical-align: top;\n",
       "    }\n",
       "\n",
       "    .dataframe thead th {\n",
       "        text-align: right;\n",
       "    }\n",
       "</style>\n",
       "<table border=\"1\" class=\"dataframe\">\n",
       "  <thead>\n",
       "    <tr style=\"text-align: right;\">\n",
       "      <th>metric_type</th>\n",
       "      <th>dataset</th>\n",
       "      <th>algorithm</th>\n",
       "      <th>model_type</th>\n",
       "      <th>accuracy</th>\n",
       "      <th>auc_roc</th>\n",
       "      <th>f1_score</th>\n",
       "      <th>precision</th>\n",
       "      <th>recall</th>\n",
       "    </tr>\n",
       "  </thead>\n",
       "  <tbody>\n",
       "    <tr>\n",
       "      <th>0</th>\n",
       "      <td>breast_cancer</td>\n",
       "      <td>SVM</td>\n",
       "      <td>Classificação</td>\n",
       "      <td>0.95614</td>\n",
       "      <td>0.996397</td>\n",
       "      <td>0.956237</td>\n",
       "      <td>0.956488</td>\n",
       "      <td>0.95614</td>\n",
       "    </tr>\n",
       "    <tr>\n",
       "      <th>3</th>\n",
       "      <td>iris</td>\n",
       "      <td>RandomForest</td>\n",
       "      <td>Classificação</td>\n",
       "      <td>1.00000</td>\n",
       "      <td>NaN</td>\n",
       "      <td>1.000000</td>\n",
       "      <td>1.000000</td>\n",
       "      <td>1.00000</td>\n",
       "    </tr>\n",
       "  </tbody>\n",
       "</table>\n",
       "</div>"
      ],
      "text/plain": [
       "metric_type        dataset     algorithm     model_type  accuracy   auc_roc  \\\n",
       "0            breast_cancer           SVM  Classificação   0.95614  0.996397   \n",
       "3                     iris  RandomForest  Classificação   1.00000       NaN   \n",
       "\n",
       "metric_type  f1_score  precision   recall  \n",
       "0            0.956237   0.956488  0.95614  \n",
       "3            1.000000   1.000000  1.00000  "
      ]
     },
     "execution_count": 69,
     "metadata": {},
     "output_type": "execute_result"
    }
   ],
   "source": [
    "classification_results\n"
   ]
  },
  {
   "cell_type": "code",
   "execution_count": 70,
   "metadata": {
    "vscode": {
     "languageId": "ruby"
    }
   },
   "outputs": [
    {
     "data": {
      "text/html": [
       "<div>\n",
       "<style scoped>\n",
       "    .dataframe tbody tr th:only-of-type {\n",
       "        vertical-align: middle;\n",
       "    }\n",
       "\n",
       "    .dataframe tbody tr th {\n",
       "        vertical-align: top;\n",
       "    }\n",
       "\n",
       "    .dataframe thead th {\n",
       "        text-align: right;\n",
       "    }\n",
       "</style>\n",
       "<table border=\"1\" class=\"dataframe\">\n",
       "  <thead>\n",
       "    <tr style=\"text-align: right;\">\n",
       "      <th>metric_type</th>\n",
       "      <th>dataset</th>\n",
       "      <th>algorithm</th>\n",
       "      <th>model_type</th>\n",
       "      <th>mae</th>\n",
       "      <th>mse</th>\n",
       "      <th>r2</th>\n",
       "      <th>rmse</th>\n",
       "    </tr>\n",
       "  </thead>\n",
       "  <tbody>\n",
       "    <tr>\n",
       "      <th>1</th>\n",
       "      <td>california</td>\n",
       "      <td>XGBoost</td>\n",
       "      <td>Regressão</td>\n",
       "      <td>0.329314</td>\n",
       "      <td>0.239564</td>\n",
       "      <td>0.817184</td>\n",
       "      <td>0.489453</td>\n",
       "    </tr>\n",
       "    <tr>\n",
       "      <th>2</th>\n",
       "      <td>diabetes</td>\n",
       "      <td>DecisionTree</td>\n",
       "      <td>Regressão</td>\n",
       "      <td>46.152500</td>\n",
       "      <td>3633.190000</td>\n",
       "      <td>0.314254</td>\n",
       "      <td>60.275900</td>\n",
       "    </tr>\n",
       "  </tbody>\n",
       "</table>\n",
       "</div>"
      ],
      "text/plain": [
       "metric_type     dataset     algorithm model_type        mae          mse  \\\n",
       "1            california       XGBoost  Regressão   0.329314     0.239564   \n",
       "2              diabetes  DecisionTree  Regressão  46.152500  3633.190000   \n",
       "\n",
       "metric_type        r2       rmse  \n",
       "1            0.817184   0.489453  \n",
       "2            0.314254  60.275900  "
      ]
     },
     "execution_count": 70,
     "metadata": {},
     "output_type": "execute_result"
    }
   ],
   "source": [
    "regression_results"
   ]
  },
  {
   "cell_type": "markdown",
   "metadata": {},
   "source": [
    "### Acrescentando um Novo Modelo"
   ]
  },
  {
   "cell_type": "code",
   "execution_count": 71,
   "metadata": {
    "vscode": {
     "languageId": "ruby"
    }
   },
   "outputs": [
    {
     "name": "stdout",
     "output_type": "stream",
     "text": [
      "Modelo DecisionTree treinado e salvo com sucesso!\n"
     ]
    }
   ],
   "source": [
    "train_and_save_model(\"iris\", \"classification\", \"DecisionTree\", DecisionTreeClassifier(criterion=\"entropy\", max_depth=3), {\"criterion\": \"entropy\", \"max_depth\": 3})"
   ]
  },
  {
   "cell_type": "code",
   "execution_count": 72,
   "metadata": {
    "vscode": {
     "languageId": "ruby"
    }
   },
   "outputs": [],
   "source": [
    "df_detailed_results02 = fetch_detailed_results()\n",
    "\n",
    "df_detailed_results02['model_type'] = df_detailed_results02['model_type'].map({0: 'Classificação', 1: 'Regressão'})\n",
    "\n",
    "classification_results_02 = df_detailed_results02[df_detailed_results02['model_type'] == 'Classificação'].dropna(axis=1, how='all')\n",
    "regression_results_02 = df_detailed_results02[df_detailed_results02['model_type'] == 'Regressão'].dropna(axis=1, how='all')"
   ]
  },
  {
   "cell_type": "code",
   "execution_count": 73,
   "metadata": {
    "vscode": {
     "languageId": "ruby"
    }
   },
   "outputs": [
    {
     "data": {
      "text/html": [
       "<div>\n",
       "<style scoped>\n",
       "    .dataframe tbody tr th:only-of-type {\n",
       "        vertical-align: middle;\n",
       "    }\n",
       "\n",
       "    .dataframe tbody tr th {\n",
       "        vertical-align: top;\n",
       "    }\n",
       "\n",
       "    .dataframe thead th {\n",
       "        text-align: right;\n",
       "    }\n",
       "</style>\n",
       "<table border=\"1\" class=\"dataframe\">\n",
       "  <thead>\n",
       "    <tr style=\"text-align: right;\">\n",
       "      <th>metric_type</th>\n",
       "      <th>dataset</th>\n",
       "      <th>algorithm</th>\n",
       "      <th>model_type</th>\n",
       "      <th>accuracy</th>\n",
       "      <th>auc_roc</th>\n",
       "      <th>f1_score</th>\n",
       "      <th>mae</th>\n",
       "      <th>mse</th>\n",
       "      <th>precision</th>\n",
       "      <th>r2</th>\n",
       "      <th>recall</th>\n",
       "      <th>rmse</th>\n",
       "    </tr>\n",
       "  </thead>\n",
       "  <tbody>\n",
       "    <tr>\n",
       "      <th>0</th>\n",
       "      <td>breast_cancer</td>\n",
       "      <td>SVM</td>\n",
       "      <td>Classificação</td>\n",
       "      <td>0.95614</td>\n",
       "      <td>0.996397</td>\n",
       "      <td>0.956237</td>\n",
       "      <td>NaN</td>\n",
       "      <td>NaN</td>\n",
       "      <td>0.956488</td>\n",
       "      <td>NaN</td>\n",
       "      <td>0.95614</td>\n",
       "      <td>NaN</td>\n",
       "    </tr>\n",
       "    <tr>\n",
       "      <th>1</th>\n",
       "      <td>california</td>\n",
       "      <td>XGBoost</td>\n",
       "      <td>Regressão</td>\n",
       "      <td>NaN</td>\n",
       "      <td>NaN</td>\n",
       "      <td>NaN</td>\n",
       "      <td>0.329314</td>\n",
       "      <td>0.239564</td>\n",
       "      <td>NaN</td>\n",
       "      <td>0.817184</td>\n",
       "      <td>NaN</td>\n",
       "      <td>0.489453</td>\n",
       "    </tr>\n",
       "    <tr>\n",
       "      <th>2</th>\n",
       "      <td>diabetes</td>\n",
       "      <td>DecisionTree</td>\n",
       "      <td>Regressão</td>\n",
       "      <td>NaN</td>\n",
       "      <td>NaN</td>\n",
       "      <td>NaN</td>\n",
       "      <td>46.152500</td>\n",
       "      <td>3633.190000</td>\n",
       "      <td>NaN</td>\n",
       "      <td>0.314254</td>\n",
       "      <td>NaN</td>\n",
       "      <td>60.275900</td>\n",
       "    </tr>\n",
       "    <tr>\n",
       "      <th>3</th>\n",
       "      <td>iris</td>\n",
       "      <td>DecisionTree</td>\n",
       "      <td>Classificação</td>\n",
       "      <td>1.00000</td>\n",
       "      <td>NaN</td>\n",
       "      <td>1.000000</td>\n",
       "      <td>NaN</td>\n",
       "      <td>NaN</td>\n",
       "      <td>1.000000</td>\n",
       "      <td>NaN</td>\n",
       "      <td>1.00000</td>\n",
       "      <td>NaN</td>\n",
       "    </tr>\n",
       "    <tr>\n",
       "      <th>4</th>\n",
       "      <td>iris</td>\n",
       "      <td>RandomForest</td>\n",
       "      <td>Classificação</td>\n",
       "      <td>1.00000</td>\n",
       "      <td>NaN</td>\n",
       "      <td>1.000000</td>\n",
       "      <td>NaN</td>\n",
       "      <td>NaN</td>\n",
       "      <td>1.000000</td>\n",
       "      <td>NaN</td>\n",
       "      <td>1.00000</td>\n",
       "      <td>NaN</td>\n",
       "    </tr>\n",
       "  </tbody>\n",
       "</table>\n",
       "</div>"
      ],
      "text/plain": [
       "metric_type        dataset     algorithm     model_type  accuracy   auc_roc  \\\n",
       "0            breast_cancer           SVM  Classificação   0.95614  0.996397   \n",
       "1               california       XGBoost      Regressão       NaN       NaN   \n",
       "2                 diabetes  DecisionTree      Regressão       NaN       NaN   \n",
       "3                     iris  DecisionTree  Classificação   1.00000       NaN   \n",
       "4                     iris  RandomForest  Classificação   1.00000       NaN   \n",
       "\n",
       "metric_type  f1_score        mae          mse  precision        r2   recall  \\\n",
       "0            0.956237        NaN          NaN   0.956488       NaN  0.95614   \n",
       "1                 NaN   0.329314     0.239564        NaN  0.817184      NaN   \n",
       "2                 NaN  46.152500  3633.190000        NaN  0.314254      NaN   \n",
       "3            1.000000        NaN          NaN   1.000000       NaN  1.00000   \n",
       "4            1.000000        NaN          NaN   1.000000       NaN  1.00000   \n",
       "\n",
       "metric_type       rmse  \n",
       "0                  NaN  \n",
       "1             0.489453  \n",
       "2            60.275900  \n",
       "3                  NaN  \n",
       "4                  NaN  "
      ]
     },
     "execution_count": 73,
     "metadata": {},
     "output_type": "execute_result"
    }
   ],
   "source": [
    "df_detailed_results02"
   ]
  },
  {
   "cell_type": "code",
   "execution_count": 74,
   "metadata": {
    "vscode": {
     "languageId": "ruby"
    }
   },
   "outputs": [
    {
     "data": {
      "text/html": [
       "<div>\n",
       "<style scoped>\n",
       "    .dataframe tbody tr th:only-of-type {\n",
       "        vertical-align: middle;\n",
       "    }\n",
       "\n",
       "    .dataframe tbody tr th {\n",
       "        vertical-align: top;\n",
       "    }\n",
       "\n",
       "    .dataframe thead th {\n",
       "        text-align: right;\n",
       "    }\n",
       "</style>\n",
       "<table border=\"1\" class=\"dataframe\">\n",
       "  <thead>\n",
       "    <tr style=\"text-align: right;\">\n",
       "      <th>metric_type</th>\n",
       "      <th>dataset</th>\n",
       "      <th>algorithm</th>\n",
       "      <th>model_type</th>\n",
       "      <th>accuracy</th>\n",
       "      <th>auc_roc</th>\n",
       "      <th>f1_score</th>\n",
       "      <th>precision</th>\n",
       "      <th>recall</th>\n",
       "    </tr>\n",
       "  </thead>\n",
       "  <tbody>\n",
       "    <tr>\n",
       "      <th>0</th>\n",
       "      <td>breast_cancer</td>\n",
       "      <td>SVM</td>\n",
       "      <td>Classificação</td>\n",
       "      <td>0.95614</td>\n",
       "      <td>0.996397</td>\n",
       "      <td>0.956237</td>\n",
       "      <td>0.956488</td>\n",
       "      <td>0.95614</td>\n",
       "    </tr>\n",
       "    <tr>\n",
       "      <th>3</th>\n",
       "      <td>iris</td>\n",
       "      <td>DecisionTree</td>\n",
       "      <td>Classificação</td>\n",
       "      <td>1.00000</td>\n",
       "      <td>NaN</td>\n",
       "      <td>1.000000</td>\n",
       "      <td>1.000000</td>\n",
       "      <td>1.00000</td>\n",
       "    </tr>\n",
       "    <tr>\n",
       "      <th>4</th>\n",
       "      <td>iris</td>\n",
       "      <td>RandomForest</td>\n",
       "      <td>Classificação</td>\n",
       "      <td>1.00000</td>\n",
       "      <td>NaN</td>\n",
       "      <td>1.000000</td>\n",
       "      <td>1.000000</td>\n",
       "      <td>1.00000</td>\n",
       "    </tr>\n",
       "  </tbody>\n",
       "</table>\n",
       "</div>"
      ],
      "text/plain": [
       "metric_type        dataset     algorithm     model_type  accuracy   auc_roc  \\\n",
       "0            breast_cancer           SVM  Classificação   0.95614  0.996397   \n",
       "3                     iris  DecisionTree  Classificação   1.00000       NaN   \n",
       "4                     iris  RandomForest  Classificação   1.00000       NaN   \n",
       "\n",
       "metric_type  f1_score  precision   recall  \n",
       "0            0.956237   0.956488  0.95614  \n",
       "3            1.000000   1.000000  1.00000  \n",
       "4            1.000000   1.000000  1.00000  "
      ]
     },
     "execution_count": 74,
     "metadata": {},
     "output_type": "execute_result"
    }
   ],
   "source": [
    "classification_results_02"
   ]
  },
  {
   "cell_type": "code",
   "execution_count": 75,
   "metadata": {
    "vscode": {
     "languageId": "ruby"
    }
   },
   "outputs": [
    {
     "data": {
      "text/html": [
       "<div>\n",
       "<style scoped>\n",
       "    .dataframe tbody tr th:only-of-type {\n",
       "        vertical-align: middle;\n",
       "    }\n",
       "\n",
       "    .dataframe tbody tr th {\n",
       "        vertical-align: top;\n",
       "    }\n",
       "\n",
       "    .dataframe thead th {\n",
       "        text-align: right;\n",
       "    }\n",
       "</style>\n",
       "<table border=\"1\" class=\"dataframe\">\n",
       "  <thead>\n",
       "    <tr style=\"text-align: right;\">\n",
       "      <th>metric_type</th>\n",
       "      <th>dataset</th>\n",
       "      <th>algorithm</th>\n",
       "      <th>model_type</th>\n",
       "      <th>mae</th>\n",
       "      <th>mse</th>\n",
       "      <th>r2</th>\n",
       "      <th>rmse</th>\n",
       "    </tr>\n",
       "  </thead>\n",
       "  <tbody>\n",
       "    <tr>\n",
       "      <th>1</th>\n",
       "      <td>california</td>\n",
       "      <td>XGBoost</td>\n",
       "      <td>Regressão</td>\n",
       "      <td>0.329314</td>\n",
       "      <td>0.239564</td>\n",
       "      <td>0.817184</td>\n",
       "      <td>0.489453</td>\n",
       "    </tr>\n",
       "    <tr>\n",
       "      <th>2</th>\n",
       "      <td>diabetes</td>\n",
       "      <td>DecisionTree</td>\n",
       "      <td>Regressão</td>\n",
       "      <td>46.152500</td>\n",
       "      <td>3633.190000</td>\n",
       "      <td>0.314254</td>\n",
       "      <td>60.275900</td>\n",
       "    </tr>\n",
       "  </tbody>\n",
       "</table>\n",
       "</div>"
      ],
      "text/plain": [
       "metric_type     dataset     algorithm model_type        mae          mse  \\\n",
       "1            california       XGBoost  Regressão   0.329314     0.239564   \n",
       "2              diabetes  DecisionTree  Regressão  46.152500  3633.190000   \n",
       "\n",
       "metric_type        r2       rmse  \n",
       "1            0.817184   0.489453  \n",
       "2            0.314254  60.275900  "
      ]
     },
     "execution_count": 75,
     "metadata": {},
     "output_type": "execute_result"
    }
   ],
   "source": [
    "regression_results_02"
   ]
  },
  {
   "cell_type": "code",
   "execution_count": 76,
   "metadata": {},
   "outputs": [
    {
     "name": "stdout",
     "output_type": "stream",
     "text": [
      "breast_cancer (SVM) : { kernel = linear }\n",
      "california (XGBoost) : { n_estimators = 100 }\n",
      "diabetes (DecisionTree) : { max_depth = 5 }\n",
      "iris (DecisionTree) : { criterion = entropy; max_depth = 3 }\n",
      "iris (RandomForest) : { n_estimators = 100 }\n"
     ]
    }
   ],
   "source": [
    "# Função para buscar modelos e hiperparâmetros\n",
    "def fetch_models_and_hyperparams():\n",
    "    # Conectar ao banco de dados usando SQLAlchemy\n",
    "    with engine.connect() as connection:\n",
    "        # Executar consulta SQL para buscar datasets, algoritmos e hiperparâmetros\n",
    "        df = pd.read_sql(text(\"\"\"\n",
    "            SELECT e.dataset, m.algorithm, h.name AS hyperparameter_name, h.value AS hyperparameter_value\n",
    "            FROM Experiments e\n",
    "            JOIN Models m ON e.model_id = m.id\n",
    "            JOIN Hyperparameters h ON m.id = h.model_id\n",
    "        \"\"\"), connection)\n",
    "\n",
    "        # Inicializar dicionário para armazenar resultados\n",
    "        results = {}\n",
    "        # Agrupar resultados por dataset e algoritmo\n",
    "        for (dataset, algorithm), group in df.groupby(['dataset', 'algorithm']):\n",
    "            # Concatenar hiperparâmetros em uma string\n",
    "            hyperparams = \"; \".join(f\"{row['hyperparameter_name']} = {row['hyperparameter_value']}\" for _, row in group.iterrows())\n",
    "            # Armazenar hiperparâmetros no dicionário de resultados\n",
    "            results[f\"{dataset} ({algorithm})\"] = f\"{{ {hyperparams} }}\"\n",
    "\n",
    "        return results\n",
    "\n",
    "# Buscar modelos e hiperparâmetros e armazenar em uma variável\n",
    "models_and_hyperparams = fetch_models_and_hyperparams()\n",
    "\n",
    "# Imprimir resultados\n",
    "for model, hyperparams in models_and_hyperparams.items():\n",
    "    print(f\"{model} : {hyperparams}\")\n"
   ]
  },
  {
   "cell_type": "code",
   "execution_count": 77,
   "metadata": {},
   "outputs": [
    {
     "name": "stdout",
     "output_type": "stream",
     "text": [
      "Dataset: breast_cancer\n",
      "Algorithm: SVM\n",
      "Model Type: 0\n",
      "Metrics:\n",
      "  accuracy: 0.95614\n",
      "  auc_roc: 0.996397\n",
      "  f1_score: 0.956237\n",
      "  precision: 0.956488\n",
      "  recall: 0.95614\n",
      "Hyperparameters: { kernel = linear }\n",
      "--------------------------------------------------\n",
      "Dataset: california\n",
      "Algorithm: XGBoost\n",
      "Model Type: 1\n",
      "Metrics:\n",
      "  mae: 0.329314\n",
      "  mse: 0.239564\n",
      "  r2: 0.817184\n",
      "  rmse: 0.489453\n",
      "Hyperparameters: { n_estimators = 100 }\n",
      "--------------------------------------------------\n",
      "Dataset: diabetes\n",
      "Algorithm: DecisionTree\n",
      "Model Type: 1\n",
      "Metrics:\n",
      "  mae: 46.1525\n",
      "  mse: 3633.19\n",
      "  r2: 0.314254\n",
      "  rmse: 60.2759\n",
      "Hyperparameters: { max_depth = 5 }\n",
      "--------------------------------------------------\n",
      "Dataset: iris\n",
      "Algorithm: DecisionTree\n",
      "Model Type: 0\n",
      "Metrics:\n",
      "  accuracy: 1.0\n",
      "  f1_score: 1.0\n",
      "  precision: 1.0\n",
      "  recall: 1.0\n",
      "Hyperparameters: { criterion = entropy; max_depth = 3 }\n",
      "--------------------------------------------------\n",
      "Dataset: iris\n",
      "Algorithm: RandomForest\n",
      "Model Type: 0\n",
      "Metrics:\n",
      "  accuracy: 1.0\n",
      "  f1_score: 1.0\n",
      "  precision: 1.0\n",
      "  recall: 1.0\n",
      "Hyperparameters: { n_estimators = 100 }\n",
      "--------------------------------------------------\n"
     ]
    }
   ],
   "source": [
    "# Mostrar para cada modelo treinado o dataset, algoritmo, tipo de métrica e valor da métrica, assim como os hiperparâmetros utilizados para treinar o modelo.\n",
    "def display_model_info():\n",
    "\tdetailed_results = fetch_detailed_results()\n",
    "\tmodels_and_hyperparams = fetch_models_and_hyperparams()\n",
    "\n",
    "\tfor index, row in detailed_results.iterrows():\n",
    "\t\tdataset = row['dataset']\n",
    "\t\talgorithm = row['algorithm']\n",
    "\t\tmodel_type = row['model_type']\n",
    "\t\tmetrics = row.drop(['dataset', 'algorithm', 'model_type']).dropna().to_dict()\n",
    "\t\thyperparams = models_and_hyperparams.get(f\"{dataset} ({algorithm})\", \"{}\")\n",
    "\n",
    "\t\tprint(f\"Dataset: {dataset}\")\n",
    "\t\tprint(f\"Algorithm: {algorithm}\")\n",
    "\t\tprint(f\"Model Type: {model_type}\")\n",
    "\t\tprint(\"Metrics:\")\n",
    "\t\tfor metric, value in metrics.items():\n",
    "\t\t\tprint(f\"  {metric}: {value}\")\n",
    "\t\tprint(f\"Hyperparameters: {hyperparams}\")\n",
    "\t\tprint(\"-\" * 50)\n",
    "\n",
    "display_model_info()"
   ]
  },
  {
   "cell_type": "code",
   "execution_count": null,
   "metadata": {},
   "outputs": [
    {
     "name": "stdout",
     "output_type": "stream",
     "text": [
      "Relatório HTML gerado com sucesso!\n"
     ]
    }
   ],
   "source": [
    "import os\n",
    "\n",
    "# Gerar relatório HTML dos resultados\n",
    "# Criar diretório para armazenar relatórios, se não existir\n",
    "os.makedirs(\"reports\", exist_ok=True)\n",
    "\n",
    "# Gerar um nome de arquivo único para o relatório\n",
    "def generate_unique_filename(base_name, extension=\".html\"):\n",
    "    counter = 1\n",
    "    filename = f\"{base_name}{extension}\"\n",
    "    while os.path.exists(os.path.join(\"reports\", filename)):\n",
    "        filename = f\"{base_name}_{counter}{extension}\"\n",
    "        counter += 1\n",
    "    return filename\n",
    "\n",
    "# Gerar nome de arquivo único para o relatório atual\n",
    "report_filename = generate_unique_filename(\"report_results\")\n",
    "\n",
    "def generate_html_report():\n",
    "    detailed_results = fetch_detailed_results()\n",
    "    models_and_hyperparams = fetch_models_and_hyperparams()\n",
    "\n",
    "    # Estilo CSS para o relatório\n",
    "    css_styles = \"\"\"\n",
    "    <style>\n",
    "        body { font-family: Arial, sans-serif; margin: 40px; padding: 20px; background-color: #f4f4f4; }\n",
    "        h1 { text-align: center; color: #333; }\n",
    "        h2 { border-bottom: 2px solid #2F4156; padding-bottom: 5px; color: #2F4156; }\n",
    "        .container { max-width: 900px; margin: auto; background: white; padding: 20px; border-radius: 8px; box-shadow: 0px 0px 10px rgba(0,0,0,0.1); }\n",
    "        table { width: 100%; border-collapse: collapse; margin-top: 10px; }\n",
    "        th, td { padding: 10px; border: 1px solid #ddd; text-align: left; }\n",
    "        th { background-color: #2F4156; color: white; }\n",
    "        .hyperparams { font-style: italic; color: #555; }\n",
    "        hr { border: 0; height: 1px; background: #ddd; margin: 20px 0; }\n",
    "    </style>\n",
    "    \"\"\"\n",
    "\n",
    "    # Início do HTML\n",
    "    html_content = f\"\"\"\n",
    "    <html>\n",
    "    <head>\n",
    "        <title>Relatório de Resultados</title>\n",
    "        {css_styles}\n",
    "    </head>\n",
    "    <body>\n",
    "        <div class='container'>\n",
    "            <h1>Relatório de Resultados</h1>\n",
    "    \"\"\"\n",
    "\n",
    "    # Agrupar os resultados por dataset\n",
    "    grouped_results = detailed_results.groupby(\"dataset\")\n",
    "\n",
    "    # Iterar sobre os datasets agrupados\n",
    "    for dataset, group in grouped_results:\n",
    "        html_content += f\"<h2>Dataset: {dataset}</h2>\"\n",
    "\n",
    "        for index, row in group.iterrows():\n",
    "            algorithm = row['algorithm']\n",
    "            model_type = \"Classificação\" if row['model_type'] == 0 else \"Regressão\"\n",
    "            metrics = row.drop(['dataset', 'algorithm', 'model_type']).dropna().to_dict()\n",
    "            hyperparams = models_and_hyperparams.get(f\"{dataset} ({algorithm})\", \"{}\")\n",
    "\n",
    "            html_content += f\"\"\"\n",
    "                <p><strong>Algorithm:</strong> {algorithm}</p>\n",
    "                <p><strong>Model Type:</strong> {model_type}</p>\n",
    "                \n",
    "                <h3>Métricas:</h3>\n",
    "                <table>\n",
    "                    <tr><th>Métrica</th><th>Valor</th></tr>\n",
    "            \"\"\"\n",
    "\n",
    "            for metric, value in metrics.items():\n",
    "                html_content += f\"<tr><td>{metric}</td><td>{value:.4f}</td></tr>\"\n",
    "\n",
    "            html_content += f\"\"\"\n",
    "                </table>\n",
    "                <p class='hyperparams'><strong>Hyperparameters:</strong> {hyperparams}</p>\n",
    "                <hr>\n",
    "            \"\"\"\n",
    "\n",
    "    # Fechando o HTML\n",
    "    html_content += \"\"\"\n",
    "        </div>\n",
    "    </body>\n",
    "    </html>\n",
    "    \"\"\"\n",
    "\n",
    "\n",
    "    with open(f\"reports/{report_filename}\", \"w\", encoding=\"utf-8\") as file:\n",
    "        file.write(html_content)\n",
    "\n",
    "generate_html_report()\n",
    "print(\"Relatório HTML gerado com sucesso!\")"
   ]
  },
  {
   "cell_type": "code",
   "execution_count": null,
   "metadata": {},
   "outputs": [],
   "source": []
  },
  {
   "cell_type": "code",
   "execution_count": null,
   "metadata": {},
   "outputs": [],
   "source": [
    "engine.dispose()\n",
    "print(\"Conexão com o banco de dados encerrada.\")"
   ]
  }
 ],
 "metadata": {
  "kernelspec": {
   "display_name": "venv",
   "language": "python",
   "name": "python3"
  },
  "language_info": {
   "codemirror_mode": {
    "name": "ipython",
    "version": 3
   },
   "file_extension": ".py",
   "mimetype": "text/x-python",
   "name": "python",
   "nbconvert_exporter": "python",
   "pygments_lexer": "ipython3",
   "version": "3.12.1"
  }
 },
 "nbformat": 4,
 "nbformat_minor": 2
}
